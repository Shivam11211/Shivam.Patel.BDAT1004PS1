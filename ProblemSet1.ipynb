{
 "cells": [
  {
   "cell_type": "markdown",
   "id": "3f0da98c",
   "metadata": {},
   "source": [
    "# Question 1 C#\n",
    "# What data type is each of the following?"
   ]
  },
  {
   "cell_type": "markdown",
   "id": "12618462",
   "metadata": {
    "slideshow": {
     "slide_type": "slide"
    }
   },
   "source": [
    "|                   | Data Type        |                \n",
    "| :---              |-----------------:|          \n",
    "| 5                 | Integer          | \n",
    "| 5.0               | Floating         |  \n",
    "| 5>1               | Boolean          |  \n",
    "| '5'               | Char             |  \n",
    "| 5 * 2             | Integer          |   \n",
    "| '5' * 2           | String           |  \n",
    "| '5' + '2'         | String           |  \n",
    "| 5 / 2             | Floating         |  \n",
    "| 5 % 2             | Integer          |   \n",
    "| {5, 2, 1}         | Array            |  \n",
    "| 5 == 3            | Boolean          |  \n",
    "| Pi (the number)   | Float            |  "
   ]
  },
  {
   "cell_type": "markdown",
   "id": "73c9786c",
   "metadata": {},
   "source": [
    "\n",
    "# Question 2 C#\n",
    "\n",
    "# Write (and evaluate) C# expressions that answer these questions"
   ]
  },
  {
   "cell_type": "markdown",
   "id": "c9406032",
   "metadata": {},
   "source": [
    "(a) How many letters are there in 'Supercalifragilisticexpialidocious'?"
   ]
  },
  {
   "cell_type": "code",
   "execution_count": null,
   "id": "90bf33cd",
   "metadata": {},
   "outputs": [],
   "source": [
    "    class Program\n",
    "    {\n",
    "        static void Main()\n",
    "        {\n",
    "            string xyz = \"Supercalifragilisticexpialidocious\";\n",
    "            int count = 0;\n",
    "            foreach (char c in xyz)\n",
    "            {\n",
    "                count++;\n",
    "            }\n",
    "            Console.WriteLine(+count);\n",
    "        }\n",
    "    }"
   ]
  },
  {
   "cell_type": "markdown",
   "id": "8c45c1ff",
   "metadata": {},
   "source": [
    "![](2a.png)"
   ]
  },
  {
   "cell_type": "markdown",
   "id": "1a4fdd44",
   "metadata": {},
   "source": [
    "(b) Does 'Supercalifragilisticexpialidocious' contain 'ice' as a substring? "
   ]
  },
  {
   "cell_type": "code",
   "execution_count": null,
   "id": "b0fd95ad",
   "metadata": {},
   "outputs": [],
   "source": [
    "    class Program\n",
    "    {\n",
    "        static void Main()\n",
    "        {\n",
    "            string s1 = \"Supercalifragilisticexpialidocious\";\n",
    "            string s2 = \"ice\";\n",
    "            Boolean B = s1.Contains(s2);\n",
    "            Console.WriteLine(\"'{0}' is in the string '{1}': {2}\",\n",
    "                s2, s1, B);\n",
    "            if (B)\n",
    "            {\n",
    "                int index = s1.IndexOf(s2);\n",
    "                if (index >= 0)\n",
    "                    Console.WriteLine(\"'{0} begins at character position {1}\",\n",
    "                                  s2, index + 1);\n",
    "            }\n",
    "        }\n",
    "    }"
   ]
  },
  {
   "cell_type": "markdown",
   "id": "ee10c8e6",
   "metadata": {},
   "source": [
    "![](2b.png)"
   ]
  },
  {
   "cell_type": "markdown",
   "id": "355d2e16",
   "metadata": {},
   "source": [
    "(c) Which of the following words is the longest:\n",
    "Supercalifragilisticexpialidocious, Honorificabilitudinitatibus, or\n",
    "Bababadalgharaghtakamminarronnkonn? "
   ]
  },
  {
   "cell_type": "code",
   "execution_count": null,
   "id": "42d42cb1",
   "metadata": {
    "slideshow": {
     "slide_type": "-"
    }
   },
   "outputs": [],
   "source": [
    "namespace PS1\n",
    "{\n",
    "    class Program\n",
    "    {\n",
    "        static void Main()\n",
    "        {\n",
    "            string s1 = \"Supercalifragilisticexpialidocious\";\n",
    "            string s2 = \"Honorificabilitudinitatibus\";\n",
    "            string s3 = \"Bababadalgharaghtakamminarronnkonn\";\n",
    "            int count = 0;\n",
    "            foreach (char c in s1)\n",
    "            {\n",
    "                count++;\n",
    "            }\n",
    "            Console.WriteLine(+count);\n",
    "            foreach (char c in s2)\n",
    "            {\n",
    "                count++;\n",
    "            }\n",
    "            Console.WriteLine(+count);\n",
    "            foreach (char c in s3)\n",
    "            {\n",
    "                count++;\n",
    "            }\n",
    "            Console.WriteLine(+count);\n",
    "        }\n",
    "    }\n",
    "}"
   ]
  },
  {
   "cell_type": "markdown",
   "id": "58e8a1c4",
   "metadata": {},
   "source": [
    "![](2c.png)"
   ]
  },
  {
   "cell_type": "markdown",
   "id": "705a73fc",
   "metadata": {},
   "source": [
    "(d) Which composer comes first in the dictionary: 'Berlioz', 'Borodin', 'Brian',\n",
    "'Bartok', 'Bellini', 'Buxtehude', 'Bernstein'. Which one comes last?\n"
   ]
  },
  {
   "cell_type": "code",
   "execution_count": null,
   "id": "025e173c",
   "metadata": {},
   "outputs": [],
   "source": []
  },
  {
   "cell_type": "markdown",
   "id": "4230204d",
   "metadata": {},
   "source": [
    "# Question 3 C#\n",
    "Implement function triangleArea(a,b,c) that takes as input the lengths of the 3\n",
    "sides of a triangle and returns the area of the triangle. By Heron's formula, the area\n",
    "of a triangle with side lengths a, b, and c is\n",
    "s(s - a)(s -b)(s -c)\n",
    ", where\n",
    "s = (a+b+c)/2.\n",
    "\n",
    "triangleArea(2,2,2)\n",
    "1.7320508075688772\n"
   ]
  },
  {
   "cell_type": "code",
   "execution_count": null,
   "id": "f2dc87c2",
   "metadata": {},
   "outputs": [],
   "source": [
    "namespace PS1\n",
    "{\n",
    "    class Program\n",
    "    {\n",
    "        public static void Main(string[] args)\n",
    "        {\n",
    "            double s, area;\n",
    "            double a, b, c;\n",
    "\n",
    "            Console.WriteLine(\"Enter side a\");\n",
    "            a = double.Parse(Console.ReadLine());\n",
    "            Console.WriteLine(\"Enter side b\");\n",
    "            b = double.Parse(Console.ReadLine());\n",
    "            Console.WriteLine(\"Enter side c\");\n",
    "            c = double.Parse(Console.ReadLine());\n",
    "\n",
    "            s = (a + b + c) / 2;\n",
    "            area = Math.Sqrt(s * (s - a) * (s - b) * (s - c));\n",
    "\n",
    "            Console.WriteLine(\"Area = {0}\", area);\n",
    "        }\n",
    "    }\n",
    "}\n"
   ]
  },
  {
   "cell_type": "markdown",
   "id": "92b8ada5",
   "metadata": {},
   "source": [
    "![](3.png)"
   ]
  },
  {
   "cell_type": "markdown",
   "id": "ac294fd2",
   "metadata": {},
   "source": [
    "# Question 4 C#\n",
    "Write a program in C# Sharp to separate odd and even integers in separate arrays.\n",
    "Go to the editor\n",
    "Test Data :\n",
    "Input the number of elements to be stored in the array :5"
   ]
  },
  {
   "cell_type": "code",
   "execution_count": null,
   "id": "2c8afbd3",
   "metadata": {},
   "outputs": [],
   "source": [
    "namespace PS1\n",
    "{\n",
    "    class Program\n",
    "    {\n",
    "        public static void Main(string[] args)\n",
    "        {\n",
    "            int i = 0;\n",
    "           \n",
    "            int[] arr = new int[5];\n",
    "\n",
    "            \n",
    "            Console.WriteLine(\"Enter array elements : \");\n",
    "            for (i = 0; i < arr.Length; i++)\n",
    "            {\n",
    "                Console.Write(\"Element - \" + (i + 0) + \": \");\n",
    "                arr[i] = int.Parse(Console.ReadLine());\n",
    "            }\n",
    "\n",
    "            \n",
    "            Console.WriteLine(\"The Even elements are:\");\n",
    "            for (i = 0; i < arr.Length; i++)\n",
    "            {\n",
    "               \n",
    "                if (arr[i] % 2 == 0)\n",
    "                Console.Write(arr[i] + \" \");\n",
    "            }\n",
    "            Console.WriteLine(\"\");\n",
    "            Console.WriteLine(\"The Odd elements are :\");\n",
    "            for (i = 0; i < arr.Length; i++)\n",
    "            {\n",
    "                \n",
    "                if (arr[i] % 2 != 0)\n",
    "                Console.Write(arr[i] + \" \");\n",
    "            }\n",
    "\n",
    "        }\n",
    "    }\n",
    "}"
   ]
  },
  {
   "cell_type": "markdown",
   "id": "858f0d77",
   "metadata": {},
   "source": [
    "![](4.png)"
   ]
  },
  {
   "cell_type": "markdown",
   "id": "aa02162d",
   "metadata": {},
   "source": [
    "# Question 5 C#\n",
    "a. Write a function inside(x,y,x1,y1,x2,y2) that returns True or False\n",
    "depending on whether the point (x,y) lies in the rectangle with lower left\n",
    "corner (x1,y1) and upper right corner (x2,y2)."
   ]
  },
  {
   "cell_type": "code",
   "execution_count": null,
   "id": "135abea8",
   "metadata": {},
   "outputs": [],
   "source": []
  },
  {
   "cell_type": "markdown",
   "id": "862c1255",
   "metadata": {},
   "source": [
    "# Question 6 Python\n",
    "16. You can turn a word into pig-Latin using the following two rules (simplified):\n",
    "• If the word starts with a consonant, move that letter to the end and append\n",
    "'ay'. For example, 'happy' becomes 'appyhay' and 'pencil' becomes 'encilpay'.\n",
    "• If the word starts with a vowel, simply append 'way' to the end of the word.\n",
    "For example, 'enter' becomes 'enterway' and 'other' becomes 'otherway' . For\n",
    "our purposes, there are 5 vowels: a, e, i, o, u (so we count y as a consonant).\n",
    "Write a function pig() that takes a word (i.e., a string) as input and returns its pigLatin form. Your function should still work if the input word contains upper casecharacters. Your output should always be lower case however.\n",
    "pig('happy')\n",
    "'appyhay'\n",
    " pig('Enter')\n",
    "'enterway' "
   ]
  },
  {
   "cell_type": "code",
   "execution_count": 69,
   "id": "2068e05d",
   "metadata": {},
   "outputs": [
    {
     "name": "stdout",
     "output_type": "stream",
     "text": [
      "Enter a Word: enter\n",
      "Pig Latin:  enterway\n"
     ]
    }
   ],
   "source": [
    "pig = ' '.join(words)\n",
    "\n",
    "sentence = input('Enter a Word: ').lower()\n",
    "words = sentence.split()\n",
    "\n",
    "for i, word in enumerate(words):\n",
    "    \n",
    "    '''\n",
    "    if first letter is a vowel\n",
    "    '''\n",
    "    if word[0] in 'aeiou':\n",
    "        words[i] = words[i]+ \"way\"\n",
    "    else:\n",
    "       \n",
    "        pig = wrd[1:] + wrd[0] + \"ay\"\n",
    "\n",
    "       \n",
    "        \n",
    "        \n",
    "\n",
    "\n",
    "\n",
    "print(\"Pig Latin: \",pig)"
   ]
  },
  {
   "cell_type": "code",
   "execution_count": 183,
   "id": "a41f0761",
   "metadata": {},
   "outputs": [
    {
     "name": "stdout",
     "output_type": "stream",
     "text": [
      "Enter a Word: happy\n",
      "Pig Latin:  appyhay\n"
     ]
    }
   ],
   "source": [
    "pig = ' '.join(words)\n",
    "\n",
    "sentence = input('Enter a Word: ').lower()\n",
    "words = sentence.split()\n",
    "\n",
    "for i, word in enumerate(words):\n",
    "    \n",
    "    '''\n",
    "    if first letter is a vowel\n",
    "    '''\n",
    "    if word[0] in 'aeiou':\n",
    "        words[i] = words[i]+ \"way\"\n",
    "    else:\n",
    "       \n",
    "        pig = wrd[1:] + wrd[0] + \"ay\"\n",
    "\n",
    "       \n",
    "        \n",
    "        \n",
    "\n",
    "print(\"Pig Latin: \",pig)"
   ]
  },
  {
   "cell_type": "markdown",
   "id": "a91e93cb",
   "metadata": {},
   "source": [
    "# Question 7 Python\n",
    "File bloodtype1.txt records blood-types of patients (A, B, AB, O or OO) at a clinic.\n",
    "Write a function bldcount() that reads the file with name name and reports (i.e.,\n",
    "prints) how many patients there are in each bloodtype.\n",
    "\n"
   ]
  },
  {
   "cell_type": "code",
   "execution_count": 155,
   "id": "b16e7592",
   "metadata": {},
   "outputs": [
    {
     "name": "stdout",
     "output_type": "stream",
     "text": [
      "AB AB B O A A AB O AB A O O A A A O O O AB O A A A A A AB AB A AB O AB O A O O O AB O AB AB AB A A O \n"
     ]
    }
   ],
   "source": [
    "\n",
    "with open('Desktop/PS1/bloodtype1.txt') as f:\n",
    "    list = f.read()\n",
    "    print(list)\n",
    "    "
   ]
  },
  {
   "cell_type": "code",
   "execution_count": 154,
   "id": "a7fe9e49",
   "metadata": {
    "scrolled": true
   },
   "outputs": [
    {
     "name": "stdout",
     "output_type": "stream",
     "text": [
      "There are 10 patients of blood type A.\n",
      "There are 1 patients of blood type B.\n",
      "There are 10 patients of blood type AB.\n",
      "There are 12 patients of blood type O.\n"
     ]
    }
   ],
   "source": [
    "with open('Desktop/PS1/bloodtype1.txt') as f:\n",
    "    bloodcount = f.read()\n",
    "     \n",
    "    \n",
    "#get number of occurrences of the substring in the string\n",
    "count1 = bloodcount.count(\" A \")\n",
    "count2 = bloodcount.count(\" B \")\n",
    "count3 = bloodcount.count(\" AB \")\n",
    "count4 = bloodcount.count(\" O \")\n",
    "\n",
    "print('There are', count1, 'patients of blood type A.')\n",
    "print('There are', count2, 'patients of blood type B.')\n",
    "print('There are', count3, 'patients of blood type AB.')\n",
    "print('There are', count4, 'patients of blood type O.')"
   ]
  },
  {
   "cell_type": "markdown",
   "id": "60502bd6",
   "metadata": {},
   "source": [
    "# Question 8 Python\n",
    "Write a function curconv() that takes as input:\n",
    "1. a currency represented using a string (e.g., 'JPY' for the Japanese Yen or\n",
    "'EUR' for the Euro)\n",
    "2. an amount\n",
    "and then converts and returns the amount in US dollars."
   ]
  },
  {
   "cell_type": "code",
   "execution_count": 161,
   "id": "db8f7a8a",
   "metadata": {},
   "outputs": [
    {
     "name": "stdout",
     "output_type": "stream",
     "text": [
      "Enter amount:\n",
      "100\n",
      "Enter the name of the currency you want to convert this amount to? Available Options:\n",
      "\n",
      "AUD\n",
      "CHF\n",
      "CNY\n",
      "DKK\n",
      "EUR\n",
      "GBP\n",
      "HKD\n",
      "INR\n",
      "JPY\n",
      "MXN\n",
      "MYR\n",
      "NOK\n",
      "NZD\n",
      "PHP\n",
      "SEK\n",
      "SGD\n",
      "THB\n",
      "Please enter one of these values: \n",
      "EUR\n",
      "100 USD is equal to 122.96544 EUR\n"
     ]
    }
   ],
   "source": [
    "with open('Desktop/PS1/currency.txt') as f:\n",
    "    lines = f.readlines()\n",
    "\n",
    "curconv = {}\n",
    "for line in lines:\n",
    "    parsed = line.split(\"\\t\")\n",
    "    curconv[parsed[0]] = parsed[1]\n",
    "\n",
    "amount = int(input(\"Enter amount:\\n\"))\n",
    "print(\"Enter the name of the currency you want to convert this amount to? Available Options:\\n\")\n",
    "[print(item) for item in curconv.keys()]\n",
    "currency = input(\"Please enter one of these values: \\n\")\n",
    "print(f\"{amount} USD is equal to {amount *float(curconv[currency])} {currency}\")"
   ]
  },
  {
   "cell_type": "markdown",
   "id": "4c51fb48",
   "metadata": {},
   "source": [
    "# Question 9 Python\n",
    "Each of the following will cause an exception (an error). Identify what type of\n",
    "exception each will cause."
   ]
  },
  {
   "cell_type": "markdown",
   "id": "77eeb060",
   "metadata": {},
   "source": [
    "a.Trying to add incompatible variables, as in\n",
    "  adding 6 + ‘a’\n",
    "  print(6 + 'a')\n",
    "\n",
    "--Type Error: Raised when an operation of function is applied to an object of the wrong type"
   ]
  },
  {
   "cell_type": "markdown",
   "id": "40b27d29",
   "metadata": {},
   "source": [
    "b.Referring to the 12th item of a list that has only 10\n",
    "items\n",
    "\n",
    "--IndexError: Raised when a sequence index is outside the range of valid indexes"
   ]
  },
  {
   "cell_type": "markdown",
   "id": "adf39020",
   "metadata": {},
   "source": [
    "c.Using a value that is out of range for a function’s\n",
    "input, such as calling math.sqrt(-1.0)\n",
    "\n",
    "--ValueError: math domain error\n"
   ]
  },
  {
   "cell_type": "markdown",
   "id": "4ee0a5f5",
   "metadata": {},
   "source": [
    "d.Using an undeclared variable, such as print(x)\n",
    "when x has not been defined \n",
    "\n",
    "--NameError: Raised when attempting to evaluate an unassigned identifier (name)\n",
    "\n"
   ]
  },
  {
   "cell_type": "markdown",
   "id": "46921ab4",
   "metadata": {},
   "source": [
    "e.Trying to open a file that does not exist, such as\n",
    "mistyping the file name or looking in the wrong\n",
    "directory. \n",
    "\n",
    "--FileNotFoundError: "
   ]
  },
  {
   "cell_type": "markdown",
   "id": "59294b23",
   "metadata": {},
   "source": [
    "# Question 10 Python\n",
    "Write a function called frequencies()\n",
    "that takes a string as its only parameter, and returns a list of integers, showing the\n",
    "number of times each character appears in the text. Your function may ignore any\n",
    "characters that are not in letters."
   ]
  },
  {
   "cell_type": "code",
   "execution_count": 181,
   "id": "4e958907",
   "metadata": {},
   "outputs": [
    {
     "name": "stdout",
     "output_type": "stream",
     "text": [
      "{'a': 1, 'p': 2, 'l': 1, 'e': 1}\n"
     ]
    }
   ],
   "source": [
    "def frequencies(string):\n",
    "    dict = {}\n",
    "    for n in string:\n",
    "        keys = dict.keys()\n",
    "        if n in keys:\n",
    "            dict[n] += 1\n",
    "        else:\n",
    "            dict[n] = 1\n",
    "    return dict\n",
    "print(frequencies('apple'))"
   ]
  },
  {
   "cell_type": "code",
   "execution_count": 182,
   "id": "88e79ef2",
   "metadata": {},
   "outputs": [
    {
     "name": "stdout",
     "output_type": "stream",
     "text": [
      "{'T': 1, 'h': 2, 'e': 5, ' ': 8, 'q': 1, 'u': 1, 'i': 1, 'c': 1, 'k': 1, 'r': 2, 'd': 3, 'f': 1, 'o': 4, 'x': 1, 'g': 1, 't': 2, 'b': 1, 'a': 1, 'n': 2, 'w': 1, 'm': 1, '.': 1}\n"
     ]
    }
   ],
   "source": [
    "def frequencies(string):\n",
    "    dict = {}\n",
    "    for n in string:\n",
    "        keys = dict.keys()\n",
    "        if n in keys:\n",
    "            dict[n] += 1\n",
    "        else:\n",
    "            dict[n] = 1\n",
    "    return dict\n",
    "print(frequencies('The quick red fox got bored and went home.'))"
   ]
  },
  {
   "cell_type": "code",
   "execution_count": null,
   "id": "07417d95",
   "metadata": {},
   "outputs": [],
   "source": []
  }
 ],
 "metadata": {
  "celltoolbar": "Slideshow",
  "kernelspec": {
   "display_name": "Python 3",
   "language": "python",
   "name": "python3"
  },
  "language_info": {
   "codemirror_mode": {
    "name": "ipython",
    "version": 3
   },
   "file_extension": ".py",
   "mimetype": "text/x-python",
   "name": "python",
   "nbconvert_exporter": "python",
   "pygments_lexer": "ipython3",
   "version": "3.8.8"
  }
 },
 "nbformat": 4,
 "nbformat_minor": 5
}
